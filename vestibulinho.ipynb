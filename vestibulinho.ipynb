{
 "cells": [
  {
   "cell_type": "markdown",
   "metadata": {
    "collapsed": true
   },
   "source": [
    "Banco de Dados Cetec \t\t\n",
    "\n",
    "A CETEC - Unidade do Ensino Médio e Técnico do CENTRO PAULA SOUZA coloca à disposição de todos os usuários da web, dados e informações referentes às Escolas Técnicas Estaduais (Etecs) e Classes Descentralizadas (frutos de parcerias com prefeituras e Secretaria do Estado da Educação), com o objetivo de oferecer um mapeamento completo de suas Unidades de Ensino no Estado de São Paulo.\n",
    "\n",
    "Os dados são referentes ao processo de seleção (Vestibulinho) e às matrículas iniciais e estão organizados por períodos semestrais.\n",
    "\n",
    "As consultas podem ser feitas de inúmeras formas e os dados podem ser obtidos por:\n",
    "\n",
    "    Unidade do Ensino\n",
    "    Educação Básica - Ensino Médio\n",
    "    Eixo Tecnológico - Ensinos Técnico e Integrado\n",
    "    Área Profissional\n",
    "    Habilitação / Curso\n",
    "    Município\n",
    "    Região de Governo\n",
    "    Região Administrativa\n",
    "    Núcleo Regional - Supervisão Pedagógica\n",
    "    Totais de alunos\n",
    "    Aproveitamento Escolar\n",
    "    Movimentação de Alunos\n",
    "\n",
    "O Banco de Dados da CETEC é mais uma ferramenta utilizada para dar conhecimento do trabalho e dos resultados obtidos pelo CENTRO PAULA SOUZA, a maior rede pública de ensino profissional do Estado de São Paulo e também uma das maiores redes públicas do Brasil e da América do Sul."
   ]
  },
  {
   "cell_type": "markdown",
   "metadata": {},
   "source": [
    "# Extraindo opções da \"Lista de Vestibulinhos\""
   ]
  },
  {
   "cell_type": "markdown",
   "metadata": {},
   "source": [
    "http://www.cpscetec.com.br/bdcetec/index.php?page=relVestibulinho"
   ]
  },
  {
   "cell_type": "code",
   "execution_count": null,
   "metadata": {},
   "outputs": [],
   "source": [
    "import requests"
   ]
  },
  {
   "cell_type": "code",
   "execution_count": null,
   "metadata": {},
   "outputs": [],
   "source": [
    "url_page = requests.get('http://www.cpscetec.com.br/bdcetec/index.php?page=relVestibulinho')"
   ]
  },
  {
   "cell_type": "code",
   "execution_count": null,
   "metadata": {},
   "outputs": [],
   "source": [
    "from bs4 import BeautifulSoup"
   ]
  },
  {
   "cell_type": "code",
   "execution_count": null,
   "metadata": {},
   "outputs": [],
   "source": [
    "urlpage = 'http://www.cpscetec.com.br/bdcetec/index.php?page=relVestibulinho'\n",
    "soup = BeautifulSoup(url_page.text, 'html.parser')\n",
    "\n",
    "print(soup.prettify())"
   ]
  },
  {
   "cell_type": "code",
   "execution_count": null,
   "metadata": {},
   "outputs": [],
   "source": [
    "soup.find_all('option')"
   ]
  },
  {
   "cell_type": "code",
   "execution_count": null,
   "metadata": {},
   "outputs": [],
   "source": [
    "opcao_combo = []\n",
    "for opcao in soup.find_all('option'):\n",
    "    print(opcao.get('value'))\n",
    "    opcao_combo.append(opcao.get('value'))"
   ]
  },
  {
   "cell_type": "code",
   "execution_count": null,
   "metadata": {},
   "outputs": [],
   "source": [
    "valor_combo = []\n",
    "for valor in soup.find_all('option'):\n",
    "    print(valor.get_text('option'))\n",
    "    valor_combo.append(valor.get_text('option'))"
   ]
  },
  {
   "cell_type": "code",
   "execution_count": null,
   "metadata": {},
   "outputs": [],
   "source": [
    "opcao_combo"
   ]
  },
  {
   "cell_type": "code",
   "execution_count": null,
   "metadata": {},
   "outputs": [],
   "source": [
    "valor_combo"
   ]
  },
  {
   "cell_type": "code",
   "execution_count": null,
   "metadata": {},
   "outputs": [],
   "source": []
  }
 ],
 "metadata": {
  "kernelspec": {
   "display_name": "Python 3",
   "language": "python",
   "name": "python3"
  },
  "language_info": {
   "codemirror_mode": {
    "name": "ipython",
    "version": 3
   },
   "file_extension": ".py",
   "mimetype": "text/x-python",
   "name": "python",
   "nbconvert_exporter": "python",
   "pygments_lexer": "ipython3",
   "version": "3.7.1"
  }
 },
 "nbformat": 4,
 "nbformat_minor": 1
}
